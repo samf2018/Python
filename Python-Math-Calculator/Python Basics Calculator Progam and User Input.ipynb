{
 "cells": [
  {
   "cell_type": "markdown",
   "metadata": {},
   "source": [
    "# Python Basic Calculator"
   ]
  },
  {
   "cell_type": "code",
   "execution_count": 1,
   "metadata": {},
   "outputs": [
    {
     "name": "stdout",
     "output_type": "stream",
     "text": [
      "Enter a number:6\n",
      "Enter another number:2\n",
      "      \n",
      "Calculator Output \n",
      "\n",
      "Addition Answer: 8\n",
      "Subtraction Answer: 4\n",
      "Division Answer: 3.0\n",
      "Multiplication Answer: 12\n"
     ]
    }
   ],
   "source": [
    "# We create two variables and allow user input to insert two numbers to add together\n",
    "\n",
    "# Addition, Subtration, Division, and Multiplication\n",
    "\n",
    "num1= input(\"Enter a number:\")\n",
    "num2= input(\"Enter another number:\")\n",
    "\n",
    "print(\"      \")\n",
    "\n",
    "result1= int(num1)+int(num2)\n",
    "result2= int(num1)-int(num2)\n",
    "result3= int(num1) / int(num2)\n",
    "result4= int(num1) * int(num2)\n",
    "\n",
    "print(\"Calculator Output \\n\")\n",
    "\n",
    "print(\"Addition Answer:\", result1)\n",
    "print(\"Subtraction Answer:\", result2)\n",
    "print(\"Division Answer:\", result3)\n",
    "print(\"Multiplication Answer:\", result4)"
   ]
  },
  {
   "cell_type": "code",
   "execution_count": 8,
   "metadata": {},
   "outputs": [
    {
     "name": "stdout",
     "output_type": "stream",
     "text": [
      "4\n",
      "3\n",
      "6.0\n",
      "8.0\n",
      "8\n"
     ]
    }
   ],
   "source": [
    "from math import *\n",
    "\n",
    "print(ceil(3.7))\n",
    "\n",
    "# rounding down\n",
    "\n",
    "print(floor(3.7)) # deletes anything after the decimal\n",
    "\n",
    "# square root\n",
    "\n",
    "print(sqrt(36))\n",
    "\n",
    "# power\n",
    "\n",
    "print(pow(2,3)) # answer with decimal/numeric\n",
    "\n",
    "print(int(pow(2,3))) # answer without a decimal/integer"
   ]
  }
 ],
 "metadata": {
  "kernelspec": {
   "display_name": "Python 3",
   "language": "python",
   "name": "python3"
  },
  "language_info": {
   "codemirror_mode": {
    "name": "ipython",
    "version": 3
   },
   "file_extension": ".py",
   "mimetype": "text/x-python",
   "name": "python",
   "nbconvert_exporter": "python",
   "pygments_lexer": "ipython3",
   "version": "3.6.5"
  }
 },
 "nbformat": 4,
 "nbformat_minor": 2
}
